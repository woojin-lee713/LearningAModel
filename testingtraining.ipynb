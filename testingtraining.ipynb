{
 "cells": [
  {
   "cell_type": "markdown",
   "metadata": {
    "hide": true
   },
   "source": [
    "# The Test set"
   ]
  },
  {
   "cell_type": "code",
   "execution_count": 1,
   "metadata": {
    "collapsed": false,
    "hide": true,
    "jupyter": {
     "outputs_hidden": false
    }
   },
   "outputs": [],
   "source": [
    "%matplotlib inline\n",
    "import numpy as np\n",
    "import scipy as sp\n",
    "import matplotlib as mpl\n",
    "import matplotlib.cm as cm\n",
    "import matplotlib.pyplot as plt\n",
    "import pandas as pd\n",
    "pd.set_option('display.width', 500)\n",
    "pd.set_option('display.max_columns', 100)\n",
    "pd.set_option('display.notebook_repr_html', True)\n",
    "import seaborn as sns\n",
    "sns.set_style(\"whitegrid\")\n",
    "sns.set_context(\"poster\")"
   ]
  },
  {
   "cell_type": "code",
   "execution_count": 2,
   "metadata": {
    "collapsed": false,
    "hide": true,
    "jupyter": {
     "outputs_hidden": false
    }
   },
   "outputs": [],
   "source": [
    "def make_simple_plot():\n",
    "    fig, axes=plt.subplots(figsize=(12,5), nrows=1, ncols=2);\n",
    "    axes[0].set_ylabel(\"$y$\")\n",
    "    axes[0].set_xlabel(\"$x$\")\n",
    "    axes[1].set_xlabel(\"$x$\")\n",
    "    axes[1].set_yticklabels([])\n",
    "    axes[0].set_ylim([-2,2])\n",
    "    axes[1].set_ylim([-2,2])\n",
    "    plt.tight_layout();\n",
    "    return axes\n",
    "def make_plot():\n",
    "    fig, axes=plt.subplots(figsize=(20,8), nrows=1, ncols=2);\n",
    "    axes[0].set_ylabel(\"$p_R$\")\n",
    "    axes[0].set_xlabel(\"$x$\")\n",
    "    axes[1].set_xlabel(\"$x$\")\n",
    "    axes[1].set_yticklabels([])\n",
    "    axes[0].set_ylim([0,1])\n",
    "    axes[1].set_ylim([0,1])\n",
    "    axes[0].set_xlim([0,1])\n",
    "    axes[1].set_xlim([0,1])\n",
    "    plt.tight_layout();\n",
    "    return axes"
   ]
  },
  {
   "cell_type": "markdown",
   "metadata": {},
   "source": [
    "## Revisiting the model\n",
    "\n",
    "Let $x$ be the fraction of religious people in a county and $y$ be the probability of voting for Romney as a function of $x$. In other words $y_i$ is data that pollsters have taken which tells us their estimate of people voting for Romney and $x_i$ is the fraction of religious people in county $i$. Because poll samples are finite, there is a margin of error on each data point or county $i$, but we will ignore that for now."
   ]
  },
  {
   "cell_type": "markdown",
   "metadata": {},
   "source": [
    "Let us assume that we have a \"population\" of 200 counties $x$:"
   ]
  },
  {
   "cell_type": "code",
   "execution_count": 3,
   "metadata": {
    "collapsed": false,
    "jupyter": {
     "outputs_hidden": false
    }
   },
   "outputs": [
    {
     "data": {
      "text/html": [
       "<div>\n",
       "<style scoped>\n",
       "    .dataframe tbody tr th:only-of-type {\n",
       "        vertical-align: middle;\n",
       "    }\n",
       "\n",
       "    .dataframe tbody tr th {\n",
       "        vertical-align: top;\n",
       "    }\n",
       "\n",
       "    .dataframe thead th {\n",
       "        text-align: right;\n",
       "    }\n",
       "</style>\n",
       "<table border=\"1\" class=\"dataframe\">\n",
       "  <thead>\n",
       "    <tr style=\"text-align: right;\">\n",
       "      <th></th>\n",
       "      <th>promney</th>\n",
       "      <th>rfrac</th>\n",
       "    </tr>\n",
       "  </thead>\n",
       "  <tbody>\n",
       "    <tr>\n",
       "      <th>0</th>\n",
       "      <td>0.047790</td>\n",
       "      <td>0.00</td>\n",
       "    </tr>\n",
       "    <tr>\n",
       "      <th>1</th>\n",
       "      <td>0.051199</td>\n",
       "      <td>0.01</td>\n",
       "    </tr>\n",
       "    <tr>\n",
       "      <th>2</th>\n",
       "      <td>0.054799</td>\n",
       "      <td>0.02</td>\n",
       "    </tr>\n",
       "    <tr>\n",
       "      <th>3</th>\n",
       "      <td>0.058596</td>\n",
       "      <td>0.03</td>\n",
       "    </tr>\n",
       "    <tr>\n",
       "      <th>4</th>\n",
       "      <td>0.062597</td>\n",
       "      <td>0.04</td>\n",
       "    </tr>\n",
       "  </tbody>\n",
       "</table>\n",
       "</div>"
      ],
      "text/plain": [
       "    promney  rfrac\n",
       "0  0.047790   0.00\n",
       "1  0.051199   0.01\n",
       "2  0.054799   0.02\n",
       "3  0.058596   0.03\n",
       "4  0.062597   0.04"
      ]
     },
     "execution_count": 3,
     "metadata": {},
     "output_type": "execute_result"
    }
   ],
   "source": [
    "dffull=pd.read_csv(\"data/religion.csv\")\n",
    "dffull.head()"
   ]
  },
  {
   "cell_type": "markdown",
   "metadata": {},
   "source": [
    "Lets suppose now that the Lord came by and told us that the points in the plot below captures $f(x)$ exactly. "
   ]
  },
  {
   "cell_type": "code",
   "execution_count": 4,
   "metadata": {
    "collapsed": false,
    "jupyter": {
     "outputs_hidden": false
    }
   },
   "outputs": [
    {
     "data": {
      "text/plain": [
       "[<matplotlib.lines.Line2D at 0x10cd736a0>]"
      ]
     },
     "execution_count": 4,
     "metadata": {},
     "output_type": "execute_result"
    },
    {
     "data": {
      "image/png": "[encoded data removed]",
      "text/plain": [
       "<Figure size 432x288 with 1 Axes>"
      ]
     },
     "metadata": {},
     "output_type": "display_data"
    }
   ],
   "source": [
    "x=dffull.rfrac.values\n",
    "f=dffull.promney.values\n",
    "plt.plot(x,f,'.', alpha=0.3)"
   ]
  },
  {
   "cell_type": "markdown",
   "metadata": {},
   "source": [
    "Notice that our sampling of $x$ is not quite uniform: there are more points around $x$ of 0.7.\n",
    "\n",
    "Now, in real life we are only given a sample of points. Lets assume that out of this population of 200 points we are given a sample $\\cal{D}$ of 30 data points. Such data is called **in-sample data**. Contrastingly, the entire population of data points is also called **out-of-sample data**."
   ]
  },
  {
   "cell_type": "code",
   "execution_count": 5,
   "metadata": {
    "collapsed": false,
    "jupyter": {
     "outputs_hidden": false
    }
   },
   "outputs": [
    {
     "data": {
      "text/html": [
       "<div>\n",
       "<style scoped>\n",
       "    .dataframe tbody tr th:only-of-type {\n",
       "        vertical-align: middle;\n",
       "    }\n",
       "\n",
       "    .dataframe tbody tr th {\n",
       "        vertical-align: top;\n",
       "    }\n",
       "\n",
       "    .dataframe thead th {\n",
       "        text-align: right;\n",
       "    }\n",
       "</style>\n",
       "<table border=\"1\" class=\"dataframe\">\n",
       "  <thead>\n",
       "    <tr style=\"text-align: right;\">\n",
       "      <th></th>\n",
       "      <th>f</th>\n",
       "      <th>i</th>\n",
       "      <th>x</th>\n",
       "      <th>y</th>\n",
       "    </tr>\n",
       "  </thead>\n",
       "  <tbody>\n",
       "    <tr>\n",
       "      <th>0</th>\n",
       "      <td>0.075881</td>\n",
       "      <td>7</td>\n",
       "      <td>0.07</td>\n",
       "      <td>0.138973</td>\n",
       "    </tr>\n",
       "    <tr>\n",
       "      <th>1</th>\n",
       "      <td>0.085865</td>\n",
       "      <td>9</td>\n",
       "      <td>0.09</td>\n",
       "      <td>0.050510</td>\n",
       "    </tr>\n",
       "    <tr>\n",
       "      <th>2</th>\n",
       "      <td>0.096800</td>\n",
       "      <td>11</td>\n",
       "      <td>0.11</td>\n",
       "      <td>0.183821</td>\n",
       "    </tr>\n",
       "    <tr>\n",
       "      <th>3</th>\n",
       "      <td>0.184060</td>\n",
       "      <td>23</td>\n",
       "      <td>0.23</td>\n",
       "      <td>0.057621</td>\n",
       "    </tr>\n",
       "    <tr>\n",
       "      <th>4</th>\n",
       "      <td>0.285470</td>\n",
       "      <td>33</td>\n",
       "      <td>0.33</td>\n",
       "      <td>0.358174</td>\n",
       "    </tr>\n",
       "  </tbody>\n",
       "</table>\n",
       "</div>"
      ],
      "text/plain": [
       "          f   i     x         y\n",
       "0  0.075881   7  0.07  0.138973\n",
       "1  0.085865   9  0.09  0.050510\n",
       "2  0.096800  11  0.11  0.183821\n",
       "3  0.184060  23  0.23  0.057621\n",
       "4  0.285470  33  0.33  0.358174"
      ]
     },
     "execution_count": 5,
     "metadata": {},
     "output_type": "execute_result"
    }
   ],
   "source": [
    "df = pd.read_csv(\"data/noisysample.csv\")\n",
    "df.head()"
   ]
  },
  {
   "cell_type": "code",
   "execution_count": 6,
   "metadata": {
    "collapsed": false,
    "figure_type": "w",
    "jupyter": {
     "outputs_hidden": false
    }
   },
   "outputs": [
    {
     "data": {
      "image/png": "[encoded data removed]",
      "text/plain": [
       "<Figure size 1440x576 with 2 Axes>"
      ]
     },
     "metadata": {},
     "output_type": "display_data"
    }
   ],
   "source": [
    "axes=make_plot()\n",
    "axes[0].plot(x,f, 'k-', alpha=0.4, label=\"f (from the Lord)\");\n",
    "axes[0].plot(x,f, 'r.', alpha=0.2, label=\"population\");\n",
    "axes[1].plot(df.x,df.f, 'o', alpha=0.6, label=\"in-sample noiseless data $\\cal{D}$\");\n",
    "axes[1].plot(df.x,df.y, 's', alpha=0.6, label=\"in-sample noisy data $\\cal{D}$\");\n",
    "axes[0].legend(loc=4);\n",
    "axes[1].legend(loc=4);"
   ]
  },
  {
   "cell_type": "markdown",
   "metadata": {},
   "source": [
    "## Testing and Training Sets"
   ]
  },
  {
   "cell_type": "markdown",
   "metadata": {},
   "source": [
    "The process of learning has two parts:\n",
    "\n",
    "1. Fit for a model by minimizing the in-sample risk\n",
    "2. Hope that the in-sample risk approximates the out-of-sample risk well.\n",
    "\n",
    "Mathematically, we are saying that:\n",
    "\n",
    "$$\n",
    "\\begin{eqnarray*}\n",
    "A &:& R_{\\cal{D}}(g) \\,\\,smallest\\,on\\,\\cal{H}\\\\\n",
    "B &:& R_{out \\,of \\,sample} (g) \\approx R_{\\cal{D}}(g)\n",
    "\\end{eqnarray*}\n",
    "$$\n",
    "\n",
    "Hoping does not befit us as scientists. How can we test that the in-sample risk approximates the out-of-sample risk well?\n",
    "\n",
    "The \"aha\" moment comes when we realize that we can hold back some of our sample, and test the performance of our learner by trying it out on this held back part! Perhaps we can compute the error or risk on the held-out part, or \"test\" part of our sample, and have something to say about the out-of-sample error."
   ]
  },
  {
   "cell_type": "markdown",
   "metadata": {},
   "source": [
    "Let us introduce some new terminology. We take the sample of data $\\cal{D}$ that we have been given (our in-sample set) and split it into two parts:\n",
    "\n",
    "1. The **training set**, which is the part of the data we use to fit a model\n",
    "2. The **testing set**, a smaller part of the data set which we use to see how good our fit was.\n",
    "\n",
    "This split is done by choosing points at random into these two sets. Typically we might take 80% of our data and put it in the training set, with the remaining amount going into the test set. This can be carried out in python using the `train_test_split` function from `sklearn.cross_validation`.\n",
    "\n",
    "The split is shown in the diagram below:\n",
    "\n",
    "![m:caption](images/train-test.png)\n",
    "\n",
    "We ARE taking a hit on the amount of data we have to train our model. The more data we have, the better we can do for our fits. But, you cannot figure out the generalization ability of a learner by looking at the same data it was trained on: there is nothing to generalize to, and as we know we can fit very complex models to training data which have no hope of generalizing (like an interpolator). Thus, to estimate the **out-of-sample error or risk**, we must leave data over to make this estimation. \n",
    "\n",
    "At this point you are thinking: the test set is just another sample of the population, just like the training set. What guarantee do we have that it approximates the out-of-sample error well? And furthermore, if we pick 6 out of 30 points as a test set, why would you expect the estimate to be any good?\n",
    "\n",
    "We will kind-of hand wavingly show later that the test set error is a good estimate of the out of sample error, especially for larger and larger test sets. You are right to worry that 6 points is perhaps too few, but thats what we have for now, and we shall work with them.\n",
    "\n",
    "We are **using the training set then, as our in-sample set, and the test set as a proxy for out-of-sample.**."
   ]
  },
  {
   "cell_type": "code",
   "execution_count": 7,
   "metadata": {
    "collapsed": false,
    "jupyter": {
     "outputs_hidden": false
    }
   },
   "outputs": [
    {
     "name": "stderr",
     "output_type": "stream",
     "text": [
      "//anaconda/envs/py3l/lib/python3.6/site-packages/sklearn/cross_validation.py:44: DeprecationWarning: This module was deprecated in version 0.18 in favor of the model_selection module into which all the refactored classes and functions are moved. Also note that the interface of the new CV iterators are different from that of this module. This module will be removed in 0.20.\n",
      "  \"This module will be removed in 0.20.\", DeprecationWarning)\n"
     ]
    }
   ],
   "source": [
    "from sklearn.cross_validation import train_test_split\n",
    "datasize=df.shape[0]\n",
    "#split dataset using the index, as we have x,f, and y that we want to split.\n",
    "itrain,itest = train_test_split(range(30),train_size=24, test_size=6)\n",
    "xtrain= df.x[itrain].values\n",
    "ftrain = df.f[itrain].values\n",
    "ytrain = df.y[itrain].values\n",
    "xtest= df.x[itest].values\n",
    "ftest = df.f[itest].values\n",
    "ytest = df.y[itest].values"
   ]
  },
  {
   "cell_type": "code",
   "execution_count": 8,
   "metadata": {
    "collapsed": false,
    "jupyter": {
     "outputs_hidden": false
    }
   },
   "outputs": [
    {
     "data": {
      "text/plain": [
       "<matplotlib.legend.Legend at 0x1a1a8c3128>"
      ]
     },
     "execution_count": 8,
     "metadata": {},
     "output_type": "execute_result"
    },
    {
     "data": {
      "image/png": "[encoded data removed]",
      "text/plain": [
       "<Figure size 1440x576 with 2 Axes>"
      ]
     },
     "metadata": {},
     "output_type": "display_data"
    }
   ],
   "source": [
    "axes=make_plot()\n",
    "axes[0].plot(df.x,df.f, 'k-', alpha=0.6, label=\"f (from the Lord)\");\n",
    "axes[0].plot(df.x,df.y, 'o',alpha=0.6, label=\"$\\cal{D}$\");\n",
    "axes[1].plot(df.x,df.f, 'k-', alpha=0.6, label=\"f (from the Lord)\");\n",
    "axes[1].plot(xtrain, ytrain, 's', label=\"training\")\n",
    "axes[1].plot(xtest, ytest, 's', label=\"testing\")\n",
    "axes[0].legend(loc=\"lower right\")\n",
    "axes[1].legend(loc=\"lower right\")"
   ]
  },
  {
   "cell_type": "markdown",
   "metadata": {},
   "source": [
    "## A digression about scikit-learn"
   ]
  },
  {
   "cell_type": "markdown",
   "metadata": {},
   "source": [
    "Scikit-learn is the main python machine learning library. It consists of many learners which can learn models from data, as well as a lot of utility functions such as `train_test_split`. It can be used in python by the incantation `import sklearn`.\n",
    "\n",
    "The library has a very well defined interface. This makes the library a joy to use, and surely contributes to its popularity. As the [scikit-learn API paper](http://arxiv.org/pdf/1309.0238v1.pdf) [Buitinck, Lars, et al. \"API design for machine learning software: experiences from the scikit-learn project.\" arXiv preprint arXiv:1309.0238 (2013).] says:\n",
    "\n",
    ">All objects within scikit-learn share a uniform common basic API consisting of three complementary interfaces: **an estimator interface for building and ﬁtting models, a predictor interface for making predictions and a transformer interface for converting data**. The estimator interface is at the core of the library. It deﬁnes instantiation mechanisms of objects and exposes a `fit` method for learning a model from training data. All supervised and unsupervised learning algorithms (e.g., for classiﬁcation, regression or clustering) are oﬀered as objects implementing this interface. Machine learning tasks like feature extraction, feature selection or dimensionality reduction are also provided as estimators.\n",
    "\n",
    "Earlier we fit `y` using the python function `polyfit`. To get you familiarized with scikit-learn, we'll use the \"estimator\" interface here, specifically the estimator `PolynomialFeatures`. The API paper again:\n",
    "\n",
    ">Since it is common to modify or ﬁlter data before feeding it to a learning algorithm, some estimators in the library implement a transformer interface which deﬁnes a transform method. It takes as input some new data X and yields as output a transformed version of X. Preprocessing, feature selection, feature extraction and dimensionality reduction algorithms are all provided as transformers within the library.\n",
    "\n",
    "To start with we have one **feature** `x`, the fraction of religious people in a county, which we want to use to predict `y`, the fraction of people voting for Romney in that county. What we will do is the transformation:\n",
    "\n",
    "$$ x \\rightarrow 1, x, x^2, x^3, ..., x^d $$\n",
    "\n",
    "for some power $d$. Our job then is to **fit** for the coefficients of these features in the polynomial\n",
    "\n",
    "$$ a_0 + a_1 x + a_2 x^2 + ... + a_d x^d. $$\n",
    "\n",
    "### Transformers in  sklearn\n",
    "\n",
    "In other words, we have transformed a function of one feature, into a (rather simple) **linear** function of many features. To do this we first construct the estimator as `PolynomialFeatures(d)`, and then transform these features into a d-dimensional space using the method `fit_transform`.\n",
    "\n",
    "![fit_transform](images/sklearntrans.jpg)\n",
    "\n",
    "Here is an example. The reason for using `[[1],[2],[3]]` as opposed to `[1,2,3]` is that scikit-learn expects data to be stored in a two-dimensional array or matrix with size `[n_samples, n_features]`."
   ]
  },
  {
   "cell_type": "code",
   "execution_count": 9,
   "metadata": {
    "collapsed": false,
    "jupyter": {
     "outputs_hidden": false
    }
   },
   "outputs": [
    {
     "data": {
      "text/plain": [
       "array([[ 1.,  1.,  1.,  1.],\n",
       "       [ 1.,  2.,  4.,  8.],\n",
       "       [ 1.,  3.,  9., 27.]])"
      ]
     },
     "execution_count": 9,
     "metadata": {},
     "output_type": "execute_result"
    }
   ],
   "source": [
    "from sklearn.preprocessing import PolynomialFeatures\n",
    "PolynomialFeatures(3).fit_transform([[1],[2], [3]])"
   ]
  },
  {
   "cell_type": "markdown",
   "metadata": {},
   "source": [
    "To transform `[1,2,3]` into [[1],[2],[3]] we need to do a reshape.\n",
    "\n",
    "![reshape](images/reshape.jpg)"
   ]
  },
  {
   "cell_type": "code",
   "execution_count": 10,
   "metadata": {
    "collapsed": false,
    "jupyter": {
     "outputs_hidden": false
    }
   },
   "outputs": [
    {
     "data": {
      "text/plain": [
       "array([[1],\n",
       "       [2],\n",
       "       [3]])"
      ]
     },
     "execution_count": 10,
     "metadata": {},
     "output_type": "execute_result"
    }
   ],
   "source": [
    "np.array([1,2,3]).reshape(-1,1)"
   ]
  },
  {
   "cell_type": "markdown",
   "metadata": {},
   "source": [
    "So now we are in the recatangular, rows=samples, columns=features form expected by `scikit-learn`. Ok, so lets see the process to transform our 1-D dataset `x` into a d-dimensional one. "
   ]
  },
  {
   "cell_type": "code",
   "execution_count": 11,
   "metadata": {
    "collapsed": false,
    "jupyter": {
     "outputs_hidden": false
    }
   },
   "outputs": [
    {
     "data": {
      "text/plain": [
       "array([0.54      , 0.71829603, 0.70533267, 0.43754875, 0.56      ,\n",
       "       0.94      , 0.66      , 0.33      , 0.91      , 0.75841654,\n",
       "       0.34      , 0.09      , 0.76      , 0.75868254, 0.67      ,\n",
       "       0.46      , 0.82850909, 0.6       , 0.63633949, 0.64832591,\n",
       "       0.63071361, 0.07      , 0.53596824, 0.52      ])"
      ]
     },
     "execution_count": 11,
     "metadata": {},
     "output_type": "execute_result"
    }
   ],
   "source": [
    "xtrain"
   ]
  },
  {
   "cell_type": "code",
   "execution_count": 12,
   "metadata": {
    "collapsed": false,
    "jupyter": {
     "outputs_hidden": false
    }
   },
   "outputs": [
    {
     "data": {
      "text/plain": [
       "array([[0.54      ],\n",
       "       [0.71829603],\n",
       "       [0.70533267],\n",
       "       [0.43754875],\n",
       "       [0.56      ],\n",
       "       [0.94      ],\n",
       "       [0.66      ],\n",
       "       [0.33      ],\n",
       "       [0.91      ],\n",
       "       [0.75841654],\n",
       "       [0.34      ],\n",
       "       [0.09      ],\n",
       "       [0.76      ],\n",
       "       [0.75868254],\n",
       "       [0.67      ],\n",
       "       [0.46      ],\n",
       "       [0.82850909],\n",
       "       [0.6       ],\n",
       "       [0.63633949],\n",
       "       [0.64832591],\n",
       "       [0.63071361],\n",
       "       [0.07      ],\n",
       "       [0.53596824],\n",
       "       [0.52      ]])"
      ]
     },
     "execution_count": 12,
     "metadata": {},
     "output_type": "execute_result"
    }
   ],
   "source": [
    "xtrain.reshape(-1,1)"
   ]
  },
  {
   "cell_type": "code",
   "execution_count": 13,
   "metadata": {
    "collapsed": false,
    "jupyter": {
     "outputs_hidden": false
    }
   },
   "outputs": [
    {
     "data": {
      "text/plain": [
       "array([[1.        , 0.54      , 0.2916    ],\n",
       "       [1.        , 0.71829603, 0.51594919],\n",
       "       [1.        , 0.70533267, 0.49749418],\n",
       "       [1.        , 0.43754875, 0.1914489 ],\n",
       "       [1.        , 0.56      , 0.3136    ],\n",
       "       [1.        , 0.94      , 0.8836    ],\n",
       "       [1.        , 0.66      , 0.4356    ],\n",
       "       [1.        , 0.33      , 0.1089    ],\n",
       "       [1.        , 0.91      , 0.8281    ],\n",
       "       [1.        , 0.75841654, 0.57519565],\n",
       "       [1.        , 0.34      , 0.1156    ],\n",
       "       [1.        , 0.09      , 0.0081    ],\n",
       "       [1.        , 0.76      , 0.5776    ],\n",
       "       [1.        , 0.75868254, 0.5755992 ],\n",
       "       [1.        , 0.67      , 0.4489    ],\n",
       "       [1.        , 0.46      , 0.2116    ],\n",
       "       [1.        , 0.82850909, 0.68642731],\n",
       "       [1.        , 0.6       , 0.36      ],\n",
       "       [1.        , 0.63633949, 0.40492794],\n",
       "       [1.        , 0.64832591, 0.42032648],\n",
       "       [1.        , 0.63071361, 0.39779966],\n",
       "       [1.        , 0.07      , 0.0049    ],\n",
       "       [1.        , 0.53596824, 0.28726196],\n",
       "       [1.        , 0.52      , 0.2704    ]])"
      ]
     },
     "execution_count": 13,
     "metadata": {},
     "output_type": "execute_result"
    }
   ],
   "source": [
    "PolynomialFeatures(2).fit_transform(xtrain.reshape(-1,1))"
   ]
  },
  {
   "cell_type": "markdown",
   "metadata": {},
   "source": [
    "### Fitting in sklearn\n",
    "\n",
    "Once again, lets see the structure of scikit-learn needed to make these fits. `.fit` always takes two arguments:\n",
    "\n",
    "`estimator.fit(Xtrain, ytrain)`.\n",
    "\n",
    "Here `Xtrain` must be in the form of an array of arrays, with the inner array each corresponding to one sample, and whose elements correspond to the feature values for that sample. (This means that the 4th element for each of these arrays, in our polynomial example, corresponds to the valueof $x^3$ for each \"sample\" $x$). The `ytrain` is a simple array of responses..continuous for regression problems, and categorical values or 1-0's for classification problems.\n"
   ]
  },
  {
   "cell_type": "markdown",
   "metadata": {},
   "source": [
    "![reshape](images/sklearn2.jpg)"
   ]
  },
  {
   "cell_type": "markdown",
   "metadata": {},
   "source": [
    "The test set `Xtest` has the same structure, and is used in the `.predict` interface. Once we have fit the estimator, we predict the results on the test set by:\n",
    "\n",
    "`estimator.predict(Xtest)`.\n",
    "\n",
    "The results of this are a simple array of predictions, of the same form and shape as `ytest`."
   ]
  },
  {
   "cell_type": "markdown",
   "metadata": {},
   "source": [
    "A summary of the scikit-learn interface can be found here:\n",
    "\n",
    "http://nbviewer.jupyter.org/github/jakevdp/sklearn_pycon2015/blob/master/notebooks/02.2-Basic-Principles.ipynb#Recap:-Scikit-learn's-estimator-interface"
   ]
  },
  {
   "cell_type": "markdown",
   "metadata": {},
   "source": [
    "Lets put this alltogether. Below we write a function to create multiple datasets, one for each polynomial degree:"
   ]
  },
  {
   "cell_type": "code",
   "execution_count": 14,
   "metadata": {
    "collapsed": true,
    "jupyter": {
     "outputs_hidden": true
    }
   },
   "outputs": [],
   "source": [
    "def make_features(train_set, test_set, degrees):\n",
    "    traintestlist=[]\n",
    "    for d in degrees:\n",
    "        traintestdict={}\n",
    "        traintestdict['train'] = PolynomialFeatures(d).fit_transform(train_set.reshape(-1,1))\n",
    "        traintestdict['test'] = PolynomialFeatures(d).fit_transform(test_set.reshape(-1,1))\n",
    "        traintestlist.append(traintestdict)\n",
    "    return traintestlist"
   ]
  },
  {
   "cell_type": "markdown",
   "metadata": {},
   "source": [
    "## How do training and testing error change with complexity?"
   ]
  },
  {
   "cell_type": "markdown",
   "metadata": {},
   "source": [
    "You will recall that the big question we were left with earlier is: what order of polynomial should we use to fit the data? Which order is too biased? Which one has too much variance and is too complex? Let us try and answer this question.\n",
    "\n",
    "We do this by fitting many different models (remember the fit is made by minimizing the empirical risk on the training set), each with increasing dimension `d`, and looking at the training-error and the test-error in each of these models. So we first try $\\cal{H}_0$, then $\\cal{H}_1$, then $\\cal{H}_2$, and so on.\n",
    "\n",
    "Since we use `PolynomialFeatures` above, each increasing dimension gives us an additional feature. $\\cal{H}_5$ has 6 features, a constant and the 5 powers of `x`. What we want to do is to find the coefficients of the 5-th order polynomial that best fits the data. Since the polynomial is **linear** in the coefficients (we multiply coefficients by powers-of-x features and sum it up), we use a learner called a `LinearRegression` model (remember that the \"linear\" in the regression refers to linearity in co-efficients). The scikit-learn interface to make such a fit is also very simple, the function `fit`. And once we have learned a model, we can predict using the function `predict`. The API paper again:\n",
    "\n",
    ">The predictor interface extends the notion of an estimator by adding a predict method that takes an array X_test and produces predictions for X_test, based on the learned parameters of the estimator.\n",
    "\n",
    "So, for increasing polynomial degree, and thus feature dimension `d`, we fit a `LinearRegression` model on the traing set. We then use scikit-learn again to calculate the error or risk. We calculate the `mean_squared_error` between the model's predictions and the data, BOTH on the training set and test set. We plot this error as a function of the defree of the polynomial `d`."
   ]
  },
  {
   "cell_type": "code",
   "execution_count": 15,
   "metadata": {
    "collapsed": false,
    "jupyter": {
     "outputs_hidden": false
    }
   },
   "outputs": [],
   "source": [
    "from sklearn.linear_model import LinearRegression\n",
    "from sklearn.metrics import mean_squared_error\n",
    "\n",
    "degrees=range(21)\n",
    "error_train=np.empty(len(degrees))\n",
    "error_test=np.empty(len(degrees))\n",
    "\n",
    "traintestlists=make_features(xtrain, xtest, degrees)"
   ]
  },
  {
   "cell_type": "code",
   "execution_count": 16,
   "metadata": {
    "collapsed": false,
    "jupyter": {
     "outputs_hidden": false
    }
   },
   "outputs": [
    {
     "data": {
      "text/plain": [
       "(array([[1.00000000e+00, 5.40000000e-01, 2.91600000e-01, 1.57464000e-01],\n",
       "        [1.00000000e+00, 7.18296032e-01, 5.15949190e-01, 3.70604256e-01],\n",
       "        [1.00000000e+00, 7.05332672e-01, 4.97494178e-01, 3.50898898e-01],\n",
       "        [1.00000000e+00, 4.37548746e-01, 1.91448905e-01, 8.37682282e-02],\n",
       "        [1.00000000e+00, 5.60000000e-01, 3.13600000e-01, 1.75616000e-01],\n",
       "        [1.00000000e+00, 9.40000000e-01, 8.83600000e-01, 8.30584000e-01],\n",
       "        [1.00000000e+00, 6.60000000e-01, 4.35600000e-01, 2.87496000e-01],\n",
       "        [1.00000000e+00, 3.30000000e-01, 1.08900000e-01, 3.59370000e-02],\n",
       "        [1.00000000e+00, 9.10000000e-01, 8.28100000e-01, 7.53571000e-01],\n",
       "        [1.00000000e+00, 7.58416542e-01, 5.75195651e-01, 4.36237897e-01],\n",
       "        [1.00000000e+00, 3.40000000e-01, 1.15600000e-01, 3.93040000e-02],\n",
       "        [1.00000000e+00, 9.00000000e-02, 8.10000000e-03, 7.29000000e-04],\n",
       "        [1.00000000e+00, 7.60000000e-01, 5.77600000e-01, 4.38976000e-01],\n",
       "        [1.00000000e+00, 7.58682543e-01, 5.75599200e-01, 4.36697065e-01],\n",
       "        [1.00000000e+00, 6.70000000e-01, 4.48900000e-01, 3.00763000e-01],\n",
       "        [1.00000000e+00, 4.60000000e-01, 2.11600000e-01, 9.73360000e-02],\n",
       "        [1.00000000e+00, 8.28509091e-01, 6.86427314e-01, 5.68711270e-01],\n",
       "        [1.00000000e+00, 6.00000000e-01, 3.60000000e-01, 2.16000000e-01],\n",
       "        [1.00000000e+00, 6.36339486e-01, 4.04927942e-01, 2.57671638e-01],\n",
       "        [1.00000000e+00, 6.48325909e-01, 4.20326484e-01, 2.72508550e-01],\n",
       "        [1.00000000e+00, 6.30713611e-01, 3.97799659e-01, 2.50897660e-01],\n",
       "        [1.00000000e+00, 7.00000000e-02, 4.90000000e-03, 3.43000000e-04],\n",
       "        [1.00000000e+00, 5.35968243e-01, 2.87261957e-01, 1.53963286e-01],\n",
       "        [1.00000000e+00, 5.20000000e-01, 2.70400000e-01, 1.40608000e-01]]),\n",
       " array([0.61984169, 0.81167767, 0.64431987, 0.49208494, 0.58004131,\n",
       "        0.93613422, 0.60311145, 0.35817449, 0.91261385, 0.81232659,\n",
       "        0.23599998, 0.05051023, 0.7612565 , 0.64634662, 0.89700996,\n",
       "        0.52531463, 0.76638914, 0.60188686, 0.71040586, 0.72006043,\n",
       "        0.65597413, 0.13897264, 0.53688748, 0.47094573]))"
      ]
     },
     "execution_count": 16,
     "metadata": {},
     "output_type": "execute_result"
    }
   ],
   "source": [
    "traintestlists[3]['train'], ytrain"
   ]
  },
  {
   "cell_type": "code",
   "execution_count": 17,
   "metadata": {
    "collapsed": false,
    "jupyter": {
     "outputs_hidden": false
    }
   },
   "outputs": [
    {
     "data": {
      "text/plain": [
       "(array([[1.        , 0.74990267, 0.56235401, 0.42171077],\n",
       "        [1.        , 0.79      , 0.6241    , 0.493039  ],\n",
       "        [1.        , 0.11      , 0.0121    , 0.001331  ],\n",
       "        [1.        , 0.23      , 0.0529    , 0.012167  ],\n",
       "        [1.        , 0.80965752, 0.65554529, 0.53076717],\n",
       "        [1.        , 0.96      , 0.9216    , 0.884736  ]]),\n",
       " array([0.74855785, 0.80195369, 0.18382092, 0.05762073, 0.79714359,\n",
       "        0.87217807]))"
      ]
     },
     "execution_count": 17,
     "metadata": {},
     "output_type": "execute_result"
    }
   ],
   "source": [
    "traintestlists[3]['test'], ytest"
   ]
  },
  {
   "cell_type": "markdown",
   "metadata": {},
   "source": [
    "### Estimating the out-of-sample error\n",
    "\n",
    "We can then use `mean_squared_error` from `sklearn` to calculate the error between the predictions and actual `ytest` values. Below we calculate this error on both the training set (which we already fit on) and the test set (which we hadnt seen before), and plot how these errors change with the degree of the polynomial."
   ]
  },
  {
   "cell_type": "code",
   "execution_count": 18,
   "metadata": {
    "collapsed": false,
    "jupyter": {
     "outputs_hidden": false
    }
   },
   "outputs": [],
   "source": [
    "est3 = LinearRegression()\n",
    "est3.fit(traintestlists[3]['train'], ytrain)\n",
    "pred_on_train3=est3.predict(traintestlists[3]['train'])\n",
    "pred_on_test3=est3.predict(traintestlists[3]['test'])"
   ]
  },
  {
   "cell_type": "code",
   "execution_count": 19,
   "metadata": {
    "collapsed": false,
    "jupyter": {
     "outputs_hidden": false
    }
   },
   "outputs": [
    {
     "name": "stdout",
     "output_type": "stream",
     "text": [
      "errtrain 0.0049921493087190716\n",
      "errtest 0.005959322409058766\n"
     ]
    }
   ],
   "source": [
    "print(\"errtrain\",mean_squared_error(ytrain, pred_on_train3))\n",
    "print(\"errtest\",mean_squared_error(ytest, pred_on_test3))"
   ]
  },
  {
   "cell_type": "markdown",
   "metadata": {},
   "source": [
    "Let us now do this for a polynomial of degree 19"
   ]
  },
  {
   "cell_type": "code",
   "execution_count": 20,
   "metadata": {
    "collapsed": false,
    "jupyter": {
     "outputs_hidden": false
    }
   },
   "outputs": [
    {
     "name": "stdout",
     "output_type": "stream",
     "text": [
      "errtrain 0.0029515851142934645\n",
      "errtest 389559.5217397779\n"
     ]
    }
   ],
   "source": [
    "est19 = LinearRegression()\n",
    "est19.fit(traintestlists[19]['train'], ytrain)\n",
    "pred_on_train19=est19.predict(traintestlists[19]['train'])\n",
    "pred_on_test19=est19.predict(traintestlists[19]['test'])\n",
    "print(\"errtrain\",mean_squared_error(ytrain, pred_on_train19))\n",
    "print(\"errtest\",mean_squared_error(ytest, pred_on_test19))"
   ]
  },
  {
   "cell_type": "markdown",
   "metadata": {},
   "source": [
    "You can see that the test set error is larger, corresponding to an overfit model thats doing very well on some points and awful on other.\n",
    "\n",
    "\n",
    "### Finding the appropriate complexity\n",
    "\n",
    "Lets now carry out this minimization systematically for each polynomial degree d."
   ]
  },
  {
   "cell_type": "code",
   "execution_count": 21,
   "metadata": {
    "collapsed": true,
    "jupyter": {
     "outputs_hidden": true
    }
   },
   "outputs": [],
   "source": [
    "for d in degrees:#for increasing polynomial degrees 0,1,2...\n",
    "    Xtrain = traintestlists[d]['train']\n",
    "    Xtest = traintestlists[d]['test']\n",
    "    #set up model\n",
    "    #fit\n",
    "    #predict\n",
    "    #calculate mean squared error\n",
    "    #set up model\n",
    "    est = LinearRegression()\n",
    "    #fit\n",
    "    est.fit(Xtrain, ytrain)\n",
    "    #predict\n",
    "    prediction_on_training = est.predict(Xtrain)\n",
    "    prediction_on_test = est.predict(Xtest)\n",
    "    #calculate mean squared error\n",
    "    error_train[d] = mean_squared_error(ytrain, prediction_on_training)\n",
    "    error_test[d] = mean_squared_error(ytest, prediction_on_test)"
   ]
  },
  {
   "cell_type": "code",
   "execution_count": 22,
   "metadata": {
    "collapsed": false,
    "jupyter": {
     "outputs_hidden": false
    }
   },
   "outputs": [
    {
     "data": {
      "image/png": "[encoded data removed]",
      "text/plain": [
       "<Figure size 432x288 with 1 Axes>"
      ]
     },
     "metadata": {},
     "output_type": "display_data"
    }
   ],
   "source": [
    "plt.plot(degrees, error_train, marker='o', label='train (in-sample)')\n",
    "plt.plot(degrees, error_test, marker='o', label='test')\n",
    "plt.axvline(np.argmin(error_test), 0,0.5, color='r', label=\"min test error at d=%d\"%np.argmin(error_test), alpha=0.3)\n",
    "plt.ylabel('mean squared error')\n",
    "plt.xlabel('degree')\n",
    "plt.legend(loc='upper left')\n",
    "plt.yscale(\"log\")"
   ]
  },
  {
   "cell_type": "markdown",
   "metadata": {},
   "source": [
    "The graph shows a very interesting structure. The training error decreases with increasing degree of the polynomial. This ought to make sense given what you know now: one can construct an arbitrarily complex polynomial to fit all the training data: indeed one could construct an order 24 polynomial which perfectly interpolates the 24 data points in the training set. You also know that this would do very badly on the test set as it would wiggle like mad to capture all the data points. And this is indeed what we see in the test set error. \n",
    "\n",
    "For extremely low degree polynomials like $d=0$ a flat line capturing the mean value of the data or $d=1$ a straight line fitting the data, the polynomial is not curvy enough to capturve the conbtours of the data. We are in the bias/deterministic error regime, where we will always have some difference between the data and the fit since the hypothesis is too simple. But, for degrees higher than 5 or so, the polynomial starts to wiggle too much to capture the training data. The test set error increases as the predictive power of the polynomial goes down thanks to the contortions it must endure to fit the training data.\n",
    "\n",
    "Thus the test set error first decreases as the model get more expressive, and then, once we exceed a certain level of complexity (here indexed by $d$), it increases. This idea can be used to identify just the right amount of complexity in the model by picking as **the best hypothesis as the one that minimizes test set error** or risk. In our case this happens around $d=4$. (This exact number will depend on the random points chosen into the training and test sets) For complexity lower than this critical value, identified by the red vertical line in the diagram, the hypotheses underfit; for complexity higher, they overfit.\n",
    "\n",
    "![m:caption](images/complexity-error-plot.png)\n",
    "\n",
    "Keep in mind that as you see in the plot above this minimum can be shallow: in this case any of the low order polynomials would be \"good enough\"."
   ]
  },
  {
   "cell_type": "markdown",
   "metadata": {},
   "source": [
    "## Is this still a test set?\n",
    "\n",
    "But something should be troubling you about this discussion. We have made no discussion on the error bars on our error estimates, primarily because we have not carried out any resampling to make this possible. \n",
    "\n",
    "But secondly we seem to be \"visually fitting\" a value of $d$. It cant be kosher to use as a test set something you did some fitting on...\n",
    "\n",
    "We have contaminated our test set. The moment we **use it in the learning process, it is not a test set**.\n",
    "\n",
    "The answer to the second question is to use a validation set, and leave a separate test set aside. The answer to the first is to use cross-validation, which is a kind of resampling method that uses multiple validation sets!"
   ]
  }
 ],
 "metadata": {
  "anaconda-cloud": {},
  "celltoolbar": "Edit Metadata",
  "kernelspec": {
   "display_name": "Python 3 (ipykernel)",
   "language": "python",
   "name": "python3"
  },
  "language_info": {
   "codemirror_mode": {
    "name": "ipython",
    "version": 3
   },
   "file_extension": ".py",
   "mimetype": "text/x-python",
   "name": "python",
   "nbconvert_exporter": "python",
   "pygments_lexer": "ipython3",
   "version": "3.12.3"
  }
 },
 "nbformat": 4,
 "nbformat_minor": 4
}
